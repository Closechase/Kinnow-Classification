{
  "nbformat": 4,
  "nbformat_minor": 0,
  "metadata": {
    "colab": {
      "provenance": []
    },
    "kernelspec": {
      "name": "python3",
      "display_name": "Python 3"
    },
    "language_info": {
      "name": "python"
    }
  },
  "cells": [
    {
      "cell_type": "code",
      "execution_count": null,
      "metadata": {
        "id": "KIEY_nK7kIfh"
      },
      "outputs": [],
      "source": [
        "import tensorflow as tf\n",
        "from tensorflow import keras\n",
        "from tensorflow.keras.utils import  array_to_img, img_to_array, load_img\n",
        "\n",
        "datagen = tf.keras.preprocessing.image.ImageDataGenerator(\n",
        "    rotation_range = 40,\n",
        "    width_shift_range = 0.2,\n",
        "    height_shift_range = 0.2,\n",
        "    shear_range = 0.2,\n",
        "    zoom_range = 0.2,\n",
        "    horizontal_flip = True,\n",
        "    fill_mode = 'nearest'\n",
        ")\n"
      ]
    },
    {
      "cell_type": "code",
      "source": [
        "augmented_folder_path = '/content/augmented_ims'\n",
        "if not os.path.exists(augmented_folder_path):\n",
        "    os.makedirs(augmented_folder_path)"
      ],
      "metadata": {
        "id": "ThF-KbAwn9kt"
      },
      "execution_count": null,
      "outputs": []
    },
    {
      "cell_type": "code",
      "source": [
        "import os\n",
        "import numpy as np\n",
        "from PIL import Image\n",
        "from keras.preprocessing.image import ImageDataGenerator\n",
        "\n",
        "# Define the folder path containing the images\n",
        "folder_path = '/content/Fungal'\n",
        "\n",
        "# Create a directory to store augmented images\n",
        "augmented_folder_path = '/content/augmented_ims'\n",
        "if not os.path.exists(augmented_folder_path):\n",
        "    os.makedirs(augmented_folder_path)\n",
        "\n",
        "# Read images from the folder and convert to arrays\n",
        "image_list = []\n",
        "for filename in os.listdir(folder_path):\n",
        "    if filename.endswith('.jpg') or filename.endswith('.JPG'):  # Adjust the file extensions as per your images\n",
        "        image_path = os.path.join(folder_path, filename)\n",
        "        image = Image.open(image_path)\n",
        "        image_array = np.array(image)\n",
        "        image_list.append(image_array)\n",
        "\n",
        "# Convert image list to numpy array\n",
        "#images = np.array(image_list)\n",
        "\n",
        "# Perform image augmentation\n",
        "datagen = ImageDataGenerator(\n",
        "    rotation_range=20,\n",
        "    width_shift_range=0.2,\n",
        "    height_shift_range=0.2,\n",
        "    shear_range=0.2,\n",
        "    zoom_range=0.2,\n",
        "    horizontal_flip=True,\n",
        "    fill_mode='nearest')\n",
        "\n",
        "# Augment images and save in the same directory\n",
        "for i, image in enumerate(images):\n",
        "    for j in range(5):\n",
        "        augmented_image = datagen.random_transform(image)\n",
        "\n",
        "        # Convert the augmented image to PIL format\n",
        "        augmented_image = Image.fromarray(augmented_image.astype(np.uint8))\n",
        "\n",
        "        # Save the augmented image\n",
        "        augmented_image_path = os.path.join(augmented_folder_path, f\"augmented_{i}_{j}.jpg\")\n",
        "        augmented_image.save(augmented_image_path)\n",
        "\n",
        "        print(f\"Augmented image {j+1} saved for image {i+1}\")\n",
        "\n",
        "print(\"Image augmentation complete!\")\n"
      ],
      "metadata": {
        "colab": {
          "base_uri": "https://localhost:8080/"
        },
        "id": "6WHndJkMweay",
        "outputId": "184c6188-519a-4522-b2b6-939204323678"
      },
      "execution_count": null,
      "outputs": [
        {
          "output_type": "stream",
          "name": "stdout",
          "text": [
            "Augmented image 1 saved for image 1\n",
            "Augmented image 2 saved for image 1\n",
            "Augmented image 3 saved for image 1\n",
            "Augmented image 4 saved for image 1\n",
            "Augmented image 5 saved for image 1\n",
            "Augmented image 1 saved for image 2\n",
            "Augmented image 2 saved for image 2\n",
            "Augmented image 3 saved for image 2\n",
            "Augmented image 4 saved for image 2\n",
            "Augmented image 5 saved for image 2\n",
            "Augmented image 1 saved for image 3\n",
            "Augmented image 2 saved for image 3\n",
            "Augmented image 3 saved for image 3\n",
            "Augmented image 4 saved for image 3\n",
            "Augmented image 5 saved for image 3\n",
            "Augmented image 1 saved for image 4\n",
            "Augmented image 2 saved for image 4\n",
            "Augmented image 3 saved for image 4\n",
            "Augmented image 4 saved for image 4\n",
            "Augmented image 5 saved for image 4\n",
            "Augmented image 1 saved for image 5\n",
            "Augmented image 2 saved for image 5\n",
            "Augmented image 3 saved for image 5\n",
            "Augmented image 4 saved for image 5\n",
            "Augmented image 5 saved for image 5\n",
            "Augmented image 1 saved for image 6\n",
            "Augmented image 2 saved for image 6\n",
            "Augmented image 3 saved for image 6\n",
            "Augmented image 4 saved for image 6\n",
            "Augmented image 5 saved for image 6\n",
            "Augmented image 1 saved for image 7\n",
            "Augmented image 2 saved for image 7\n",
            "Augmented image 3 saved for image 7\n",
            "Augmented image 4 saved for image 7\n",
            "Augmented image 5 saved for image 7\n",
            "Augmented image 1 saved for image 8\n",
            "Augmented image 2 saved for image 8\n",
            "Augmented image 3 saved for image 8\n",
            "Augmented image 4 saved for image 8\n",
            "Augmented image 5 saved for image 8\n",
            "Augmented image 1 saved for image 9\n",
            "Augmented image 2 saved for image 9\n",
            "Augmented image 3 saved for image 9\n",
            "Augmented image 4 saved for image 9\n",
            "Augmented image 5 saved for image 9\n",
            "Augmented image 1 saved for image 10\n",
            "Augmented image 2 saved for image 10\n",
            "Augmented image 3 saved for image 10\n",
            "Augmented image 4 saved for image 10\n",
            "Augmented image 5 saved for image 10\n",
            "Augmented image 1 saved for image 11\n",
            "Augmented image 2 saved for image 11\n",
            "Augmented image 3 saved for image 11\n",
            "Augmented image 4 saved for image 11\n",
            "Augmented image 5 saved for image 11\n",
            "Augmented image 1 saved for image 12\n",
            "Augmented image 2 saved for image 12\n",
            "Augmented image 3 saved for image 12\n",
            "Augmented image 4 saved for image 12\n",
            "Augmented image 5 saved for image 12\n",
            "Augmented image 1 saved for image 13\n",
            "Augmented image 2 saved for image 13\n",
            "Augmented image 3 saved for image 13\n",
            "Augmented image 4 saved for image 13\n",
            "Augmented image 5 saved for image 13\n",
            "Augmented image 1 saved for image 14\n",
            "Augmented image 2 saved for image 14\n",
            "Augmented image 3 saved for image 14\n",
            "Augmented image 4 saved for image 14\n",
            "Augmented image 5 saved for image 14\n",
            "Augmented image 1 saved for image 15\n",
            "Augmented image 2 saved for image 15\n",
            "Augmented image 3 saved for image 15\n",
            "Augmented image 4 saved for image 15\n",
            "Augmented image 5 saved for image 15\n",
            "Image augmentation complete!\n"
          ]
        }
      ]
    },
    {
      "cell_type": "code",
      "source": [
        "import os\n",
        "import shutil\n",
        "\n",
        "def clear_directory(directory_path):\n",
        "    for filename in os.listdir(directory_path):\n",
        "        file_path = os.path.join(directory_path, filename)\n",
        "        if os.path.isfile(file_path):\n",
        "            os.remove(file_path)\n",
        "        elif os.path.isdir(file_path):\n",
        "            shutil.rmtree(file_path)\n",
        "\n",
        "# Specify the directory path\n",
        "directory_path = '/content/augmented_ims'\n",
        "\n",
        "# Call the function to clear the directory\n",
        "clear_directory(directory_path)"
      ],
      "metadata": {
        "id": "kNSq-Wji0UaP"
      },
      "execution_count": null,
      "outputs": []
    },
    {
      "cell_type": "code",
      "source": [
        "import shutil\n",
        "file_to = '/content/augmented_ims_z'\n",
        "file_format = 'zip'\n",
        "file_from = '/content/augmented_ims'\n",
        "shutil.make_archive(file_to, file_format, file_from)"
      ],
      "metadata": {
        "colab": {
          "base_uri": "https://localhost:8080/",
          "height": 36
        },
        "id": "Rd-EdiXm4otp",
        "outputId": "f5d2835a-d3a6-4262-c6c5-14e54d9a76b3"
      },
      "execution_count": null,
      "outputs": [
        {
          "output_type": "execute_result",
          "data": {
            "text/plain": [
              "'/content/augmented_ims_z.zip'"
            ],
            "application/vnd.google.colaboratory.intrinsic+json": {
              "type": "string"
            }
          },
          "metadata": {},
          "execution_count": 21
        }
      ]
    },
    {
      "cell_type": "code",
      "source": [
        "!zip  /content/augmented_ims.zip /content/augmented_ims"
      ],
      "metadata": {
        "colab": {
          "base_uri": "https://localhost:8080/"
        },
        "id": "ARQuf0wr6aao",
        "outputId": "ce5734d8-f904-49a3-ea73-f0665a2087e4"
      },
      "execution_count": null,
      "outputs": [
        {
          "output_type": "stream",
          "name": "stdout",
          "text": [
            "updating: content/augmented_ims/ (stored 0%)\n"
          ]
        }
      ]
    },
    {
      "cell_type": "code",
      "source": [
        "from google.colab import files\n",
        "files.download('/content/augmented_ims.zip')"
      ],
      "metadata": {
        "colab": {
          "base_uri": "https://localhost:8080/",
          "height": 34
        },
        "id": "GKwbLBtL7GNX",
        "outputId": "104cfa10-04be-4521-c8c1-65aacb9482c6"
      },
      "execution_count": null,
      "outputs": [
        {
          "output_type": "display_data",
          "data": {
            "text/plain": [
              "<IPython.core.display.Javascript object>"
            ],
            "application/javascript": [
              "\n",
              "    async function download(id, filename, size) {\n",
              "      if (!google.colab.kernel.accessAllowed) {\n",
              "        return;\n",
              "      }\n",
              "      const div = document.createElement('div');\n",
              "      const label = document.createElement('label');\n",
              "      label.textContent = `Downloading \"${filename}\": `;\n",
              "      div.appendChild(label);\n",
              "      const progress = document.createElement('progress');\n",
              "      progress.max = size;\n",
              "      div.appendChild(progress);\n",
              "      document.body.appendChild(div);\n",
              "\n",
              "      const buffers = [];\n",
              "      let downloaded = 0;\n",
              "\n",
              "      const channel = await google.colab.kernel.comms.open(id);\n",
              "      // Send a message to notify the kernel that we're ready.\n",
              "      channel.send({})\n",
              "\n",
              "      for await (const message of channel.messages) {\n",
              "        // Send a message to notify the kernel that we're ready.\n",
              "        channel.send({})\n",
              "        if (message.buffers) {\n",
              "          for (const buffer of message.buffers) {\n",
              "            buffers.push(buffer);\n",
              "            downloaded += buffer.byteLength;\n",
              "            progress.value = downloaded;\n",
              "          }\n",
              "        }\n",
              "      }\n",
              "      const blob = new Blob(buffers, {type: 'application/binary'});\n",
              "      const a = document.createElement('a');\n",
              "      a.href = window.URL.createObjectURL(blob);\n",
              "      a.download = filename;\n",
              "      div.appendChild(a);\n",
              "      a.click();\n",
              "      div.remove();\n",
              "    }\n",
              "  "
            ]
          },
          "metadata": {}
        },
        {
          "output_type": "display_data",
          "data": {
            "text/plain": [
              "<IPython.core.display.Javascript object>"
            ],
            "application/javascript": [
              "download(\"download_c31ceabf-336f-4c19-98bc-bb5ba618ba9f\", \"augmented_ims.zip\", 75292838)"
            ]
          },
          "metadata": {}
        }
      ]
    }
  ]
}
